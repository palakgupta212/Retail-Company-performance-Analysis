{
 "cells": [
  {
   "cell_type": "markdown",
   "id": "c5c2593c",
   "metadata": {},
   "source": [
    "# 🛒 Retail Company Performance Analysis\n",
    "Analyze sales data to extract performance insights by region, category, and time."
   ]
  },
  {
   "cell_type": "code",
   "execution_count": null,
   "id": "f721fa45",
   "metadata": {},
   "outputs": [],
   "source": [
    "import pandas as pd\n",
    "import matplotlib.pyplot as plt\n",
    "import seaborn as sns\n",
    "import numpy as np\n",
    "import warnings\n",
    "warnings.filterwarnings('ignore')"
   ]
  },
  {
   "cell_type": "code",
   "execution_count": null,
   "id": "1b5aaf85",
   "metadata": {},
   "outputs": [],
   "source": [
    "# Load the dataset\n",
    "df = pd.read_csv('data/retail_raw.csv', parse_dates=['Date'])\n",
    "df.head()"
   ]
  },
  {
   "cell_type": "code",
   "execution_count": null,
   "id": "5f8d48fe",
   "metadata": {},
   "outputs": [],
   "source": [
    "# Basic info and missing values\n",
    "df.info()\n",
    "df.isnull().sum()"
   ]
  },
  {
   "cell_type": "code",
   "execution_count": null,
   "id": "dfb0125f",
   "metadata": {},
   "outputs": [],
   "source": [
    "# Total Sales by Region\n",
    "region_sales = df.groupby('Region')['Sales'].sum().sort_values(ascending=False)\n",
    "plt.figure(figsize=(8,5))\n",
    "sns.barplot(x=region_sales.index, y=region_sales.values, palette='Blues_d')\n",
    "plt.title('Total Sales by Region')\n",
    "plt.ylabel('Sales')\n",
    "plt.xlabel('Region')\n",
    "plt.tight_layout()\n",
    "plt.show()"
   ]
  },
  {
   "cell_type": "code",
   "execution_count": null,
   "id": "d3081347",
   "metadata": {},
   "outputs": [],
   "source": [
    "# Profit by Category\n",
    "category_profit = df.groupby('Category')['Profit'].sum().sort_values()\n",
    "plt.figure(figsize=(8,5))\n",
    "sns.barplot(x=category_profit.index, y=category_profit.values, palette='Greens_r')\n",
    "plt.title('Total Profit by Category')\n",
    "plt.ylabel('Profit')\n",
    "plt.xlabel('Category')\n",
    "plt.tight_layout()\n",
    "plt.show()"
   ]
  },
  {
   "cell_type": "code",
   "execution_count": null,
   "id": "5d9d16d1",
   "metadata": {},
   "outputs": [],
   "source": [
    "# Monthly Sales Trend\n",
    "df['Month'] = df['Date'].dt.to_period('M')\n",
    "monthly_sales = df.groupby('Month')['Sales'].sum()\n",
    "monthly_sales.plot(kind='line', marker='o', figsize=(10,5), title='Monthly Sales Trend')\n",
    "plt.ylabel('Sales')\n",
    "plt.xlabel('Month')\n",
    "plt.grid(True)\n",
    "plt.tight_layout()\n",
    "plt.show()"
   ]
  },
  {
   "cell_type": "markdown",
   "id": "24e2c59f",
   "metadata": {},
   "source": [
    "### 💡 Key Business Insights\n",
    "- Western region generated the highest total sales.\n",
    "- Furniture category showed high sales but lower profit margins.\n",
    "- Seasonal trends observed in monthly sales — opportunity to optimize inventory.\n",
    "- High discounts correlated with reduced profit in some categories."
   ]
  }
 ],
 "metadata": {},
 "nbformat": 4,
 "nbformat_minor": 5
}